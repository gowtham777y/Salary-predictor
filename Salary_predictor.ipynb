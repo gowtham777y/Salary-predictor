{
  "nbformat": 4,
  "nbformat_minor": 0,
  "metadata": {
    "colab": {
      "name": "Salary predictor.ipynb",
      "provenance": [],
      "mount_file_id": "1uxEL70YWvPDmHMr_6ywUzEdEAWvifBsR",
      "authorship_tag": "ABX9TyNm2ahzEZbSM3XWJyyDhbdR",
      "include_colab_link": true
    },
    "kernelspec": {
      "name": "python3",
      "display_name": "Python 3"
    }
  },
  "cells": [
    {
      "cell_type": "markdown",
      "metadata": {
        "id": "view-in-github",
        "colab_type": "text"
      },
      "source": [
        "<a href=\"https://colab.research.google.com/github/gowtham777y/Salary-predictor/blob/main/Salary_predictor.ipynb\" target=\"_parent\"><img src=\"https://colab.research.google.com/assets/colab-badge.svg\" alt=\"Open In Colab\"/></a>"
      ]
    },
    {
      "cell_type": "code",
      "metadata": {
        "id": "Im-E7YHOhV3b"
      },
      "source": [
        "import pandas as pd\r\n",
        "import numpy as np\r\n",
        "import matplotlib.pyplot as plt\r\n"
      ],
      "execution_count": 1,
      "outputs": []
    },
    {
      "cell_type": "code",
      "metadata": {
        "id": "ggRbCk17lQbD"
      },
      "source": [
        "df=pd.read_csv(\"Salary_Data.csv\")"
      ],
      "execution_count": 12,
      "outputs": []
    },
    {
      "cell_type": "code",
      "metadata": {
        "id": "-rvklKtBle0L"
      },
      "source": [
        "x=df.iloc[:,0].values.reshape(-1,1)\r\n",
        "y=df.iloc[:,1].values.reshape(-1,1)"
      ],
      "execution_count": 18,
      "outputs": []
    },
    {
      "cell_type": "code",
      "metadata": {
        "id": "XTNzatmAmDIN"
      },
      "source": [
        "from sklearn.model_selection import train_test_split"
      ],
      "execution_count": 22,
      "outputs": []
    },
    {
      "cell_type": "code",
      "metadata": {
        "id": "gXZisoe6rsWg"
      },
      "source": [
        "train_x,test_x,train_y,test_y=train_test_split(x,y,test_size=0.2,random_state=0) #test_size=0.2 shows that we are going \r\n",
        "#train the data with 80% data and the remaining 20% is tested to trian the model and random_state is not to take random values instead take\r\n",
        "#from the dataset"
      ],
      "execution_count": 29,
      "outputs": []
    },
    {
      "cell_type": "code",
      "metadata": {
        "colab": {
          "base_uri": "https://localhost:8080/"
        },
        "id": "Imm53H2Vs-Yo",
        "outputId": "3978d3b2-8b99-47d8-e7a6-3e198077c921"
      },
      "source": [
        "test_x"
      ],
      "execution_count": 31,
      "outputs": [
        {
          "output_type": "execute_result",
          "data": {
            "text/plain": [
              "array([[ 1.5],\n",
              "       [10.3],\n",
              "       [ 4.1],\n",
              "       [ 3.9],\n",
              "       [ 9.5],\n",
              "       [ 8.7]])"
            ]
          },
          "metadata": {
            "tags": []
          },
          "execution_count": 31
        }
      ]
    },
    {
      "cell_type": "code",
      "metadata": {
        "id": "P-kHsp1wtczs"
      },
      "source": [
        "from sklearn.linear_model import LinearRegression"
      ],
      "execution_count": 33,
      "outputs": []
    },
    {
      "cell_type": "code",
      "metadata": {
        "id": "wpaTeYiXtjf1"
      },
      "source": [
        "Lin=LinearRegression()"
      ],
      "execution_count": 35,
      "outputs": []
    },
    {
      "cell_type": "code",
      "metadata": {
        "colab": {
          "base_uri": "https://localhost:8080/"
        },
        "id": "Vah7xs4UtoMD",
        "outputId": "cfefce55-1392-4648-c160-ce26b67faac7"
      },
      "source": [
        "Lin.fit(train_x,train_y) #this creates our model"
      ],
      "execution_count": 37,
      "outputs": [
        {
          "output_type": "execute_result",
          "data": {
            "text/plain": [
              "LinearRegression(copy_X=True, fit_intercept=True, n_jobs=None, normalize=False)"
            ]
          },
          "metadata": {
            "tags": []
          },
          "execution_count": 37
        }
      ]
    },
    {
      "cell_type": "code",
      "metadata": {
        "id": "O2RtWVSct26I"
      },
      "source": [
        "pred_y=Lin.predict(test_x) #predicting values for test x values"
      ],
      "execution_count": 39,
      "outputs": []
    },
    {
      "cell_type": "code",
      "metadata": {
        "colab": {
          "base_uri": "https://localhost:8080/"
        },
        "id": "o-Jn7JrmuFYZ",
        "outputId": "4d09d481-59da-4217-c68a-cb92f98402d9"
      },
      "source": [
        "pred_y"
      ],
      "execution_count": 41,
      "outputs": [
        {
          "output_type": "execute_result",
          "data": {
            "text/plain": [
              "array([[ 40748.96184072],\n",
              "       [122699.62295594],\n",
              "       [ 64961.65717022],\n",
              "       [ 63099.14214487],\n",
              "       [115249.56285456],\n",
              "       [107799.50275317]])"
            ]
          },
          "metadata": {
            "tags": []
          },
          "execution_count": 41
        }
      ]
    },
    {
      "cell_type": "code",
      "metadata": {
        "colab": {
          "base_uri": "https://localhost:8080/"
        },
        "id": "3FOLOSrTuRLi",
        "outputId": "2c42094b-890a-4cf9-dbfa-f8fd2342ceb2"
      },
      "source": [
        "test_y"
      ],
      "execution_count": 43,
      "outputs": [
        {
          "output_type": "execute_result",
          "data": {
            "text/plain": [
              "array([[ 37731.],\n",
              "       [122391.],\n",
              "       [ 57081.],\n",
              "       [ 63218.],\n",
              "       [116969.],\n",
              "       [109431.]])"
            ]
          },
          "metadata": {
            "tags": []
          },
          "execution_count": 43
        }
      ]
    },
    {
      "cell_type": "code",
      "metadata": {
        "colab": {
          "base_uri": "https://localhost:8080/"
        },
        "id": "uOT2jm5vupXl",
        "outputId": "959bd737-1a53-4e25-a26a-900f45bd4cea"
      },
      "source": [
        "np.concatenate((test_y,pred_y),axis=1) #adds two arrays into one and axis=1 is for adding them row wise \r\n",
        "#i.e column 1=test_y and column 2=pred_y"
      ],
      "execution_count": 46,
      "outputs": [
        {
          "output_type": "execute_result",
          "data": {
            "text/plain": [
              "array([[ 37731.        ,  40748.96184072],\n",
              "       [122391.        , 122699.62295594],\n",
              "       [ 57081.        ,  64961.65717022],\n",
              "       [ 63218.        ,  63099.14214487],\n",
              "       [116969.        , 115249.56285456],\n",
              "       [109431.        , 107799.50275317]])"
            ]
          },
          "metadata": {
            "tags": []
          },
          "execution_count": 46
        }
      ]
    },
    {
      "cell_type": "code",
      "metadata": {
        "colab": {
          "base_uri": "https://localhost:8080/"
        },
        "id": "VAFltEZ7vKtu",
        "outputId": "f3c0fc73-2daa-48fe-b6d5-ea25b4d4fe45"
      },
      "source": [
        "np.abs(test_y-pred_y) #calculates absolute difference"
      ],
      "execution_count": 48,
      "outputs": [
        {
          "output_type": "execute_result",
          "data": {
            "text/plain": [
              "array([[3017.96184072],\n",
              "       [ 308.62295594],\n",
              "       [7880.65717022],\n",
              "       [ 118.85785513],\n",
              "       [1719.43714544],\n",
              "       [1631.49724683]])"
            ]
          },
          "metadata": {
            "tags": []
          },
          "execution_count": 48
        }
      ]
    },
    {
      "cell_type": "code",
      "metadata": {
        "colab": {
          "base_uri": "https://localhost:8080/"
        },
        "id": "DR4nQUSTvfVU",
        "outputId": "02537171-f0ea-4684-8e78-25ddbcf412a6"
      },
      "source": [
        "np.abs(test_y-pred_y).mean() # mean of all differences"
      ],
      "execution_count": 50,
      "outputs": [
        {
          "output_type": "execute_result",
          "data": {
            "text/plain": [
              "2446.1723690465055"
            ]
          },
          "metadata": {
            "tags": []
          },
          "execution_count": 50
        }
      ]
    },
    {
      "cell_type": "code",
      "metadata": {
        "id": "ZkdPVCmBwZ_X"
      },
      "source": [
        "from sklearn import metrics"
      ],
      "execution_count": 52,
      "outputs": []
    },
    {
      "cell_type": "code",
      "metadata": {
        "colab": {
          "base_uri": "https://localhost:8080/"
        },
        "id": "wuD9Fv8mwfFh",
        "outputId": "b9d0bf99-0919-4be6-8d30-9c4e8fad2e92"
      },
      "source": [
        "metrics.mean_absolute_error(test_y,pred_y) #meaan of absolute error"
      ],
      "execution_count": 54,
      "outputs": [
        {
          "output_type": "execute_result",
          "data": {
            "text/plain": [
              "2446.1723690465055"
            ]
          },
          "metadata": {
            "tags": []
          },
          "execution_count": 54
        }
      ]
    },
    {
      "cell_type": "code",
      "metadata": {
        "colab": {
          "base_uri": "https://localhost:8080/"
        },
        "id": "sG14UMESwlJH",
        "outputId": "41645ac3-dbea-4adc-9165-5c02aa9f3a2d"
      },
      "source": [
        "metrics.mean_squared_error(test_y,pred_y) #squared mean error"
      ],
      "execution_count": 55,
      "outputs": [
        {
          "output_type": "execute_result",
          "data": {
            "text/plain": [
              "12823412.298126549"
            ]
          },
          "metadata": {
            "tags": []
          },
          "execution_count": 55
        }
      ]
    }
  ]
}